{
 "cells": [
  {
   "cell_type": "code",
   "execution_count": 11,
   "metadata": {},
   "outputs": [
    {
     "name": "stdout",
     "output_type": "stream",
     "text": [
      "------------------------------------------------------------\n",
      "                        JOURNAL_APP                         \n",
      "------------------------------------------------------------\n"
     ]
    }
   ],
   "source": [
    "print('-'*60)\n",
    "string= 'JOURNAL_APP'\n",
    "print(f'{string:^60}')\n",
    "print('-'*60)"
   ]
  },
  {
   "cell_type": "code",
   "execution_count": null,
   "metadata": {},
   "outputs": [
    {
     "name": "stdout",
     "output_type": "stream",
     "text": [
      "What do you want to do? [L]ist, [A]dd or E[x]it ?\n"
     ]
    }
   ],
   "source": [
    "# Whe ran in .ipynb i get infinite loop error\n",
    "# I will use print statements to figure out where it get's stuck\n",
    "# It is while loop in jupyter notebook.. \n",
    "previous_entries = []\n",
    "while True:\n",
    "    print('What do you want to do? [L]ist, [A]dd or E[x]it ?')\n",
    "    user_entry = input().strip().upper()\n",
    "    print('Checkpoint 1')\n",
    "    if user_entry == 'L':\n",
    "        if not previous_entries:\n",
    "            print('Checkpoint 2')\n",
    "            print('There is no previous entries!\\n Please enter your #1 Journal entry!')\n",
    "        else:\n",
    "            for i,entry in enumerate(previous_entries,start = 1):\n",
    "                print(f'{i}.{entry}')\n",
    "    elif user_entry == 'A':\n",
    "        print('Please write the Journal entry below.')\n",
    "        entry = input()\n",
    "        previous_entries.append(entry)\n",
    "    elif user_entry == 'X':\n",
    "         print('That''s it for today')\n",
    "         break\n",
    "    else:\n",
    "        print('Invalid option, please choose [L], [A] or [X] !')"
   ]
  }
 ],
 "metadata": {
  "kernelspec": {
   "display_name": "Python 3",
   "language": "python",
   "name": "python3"
  },
  "language_info": {
   "codemirror_mode": {
    "name": "ipython",
    "version": 3
   },
   "file_extension": ".py",
   "mimetype": "text/x-python",
   "name": "python",
   "nbconvert_exporter": "python",
   "pygments_lexer": "ipython3",
   "version": "3.11.4"
  }
 },
 "nbformat": 4,
 "nbformat_minor": 2
}
