{
 "cells": [
  {
   "cell_type": "markdown",
   "metadata": {},
   "source": [
    "### **Python Classes from Scratch**"
   ]
  },
  {
   "cell_type": "markdown",
   "metadata": {},
   "source": [
    "## 1.Basics of Classes and Objects"
   ]
  },
  {
   "cell_type": "markdown",
   "metadata": {},
   "source": [
    "1.1. What is a Class? What is an Object?\n",
    "\n",
    "- A class is a blueprint for creating objects.\n",
    "\n",
    "- An object is an instance of a class.\n",
    "\n",
    "- Objects have attributes (data) and methods (functions)."
   ]
  },
  {
   "cell_type": "markdown",
   "metadata": {},
   "source": [
    "##### Example 1. Creating a simple class.\n",
    "\n",
    "> I want to define object so they can represent information about the person.\n",
    "\n",
    "> every object will represent one person.\n",
    "\n",
    "- First of all, I need to define class `person` as the mold for the objects."
   ]
  },
  {
   "cell_type": "code",
   "execution_count": 1,
   "metadata": {},
   "outputs": [
    {
     "name": "stdout",
     "output_type": "stream",
     "text": [
      "<__main__.person object at 0x00000248B09D1990>\n",
      "<__main__.person object at 0x00000248B09D0ED0>\n"
     ]
    }
   ],
   "source": [
    "# Creating a simple class:\n",
    "\n",
    "class person():\n",
    "    pass\n",
    "\n",
    "human_1 = person()\n",
    "print(human_1)\n",
    "#<__main__.person object at 0x000001AEA6276C10>\n",
    "human_2 = person()\n",
    "print(human_2)\n",
    "# <__main__.person object at 0x000001AEA6271110>"
   ]
  },
  {
   "cell_type": "markdown",
   "metadata": {},
   "source": [
    "#### **Each call to Person() allocates a new space in memory for that object.**\n",
    "#### **Even though both objects are of the same class, Python treats them as completely separate instances, so their memory addresses are different.**"
   ]
  },
  {
   "cell_type": "markdown",
   "metadata": {},
   "source": [
    "Every object has unique identity, which can be checked using `id()` func.\n",
    "\n",
    "The id() function returns the memory address (unique identifier) of an object."
   ]
  },
  {
   "cell_type": "code",
   "execution_count": null,
   "metadata": {},
   "outputs": [
    {
     "name": "stdout",
     "output_type": "stream",
     "text": [
      "1849623538704\n",
      "1849623515408\n"
     ]
    },
    {
     "data": {
      "text/plain": [
       "1849623515408"
      ]
     },
     "execution_count": 11,
     "metadata": {},
     "output_type": "execute_result"
    }
   ],
   "source": [
    "print(id(human_1))\n",
    "print(id(human_2))\n",
    "\n",
    "#output:\n",
    "\n",
    "# 1849623538704\n",
    "# 1849623515408"
   ]
  },
  {
   "cell_type": "code",
   "execution_count": null,
   "metadata": {},
   "outputs": [
    {
     "name": "stdout",
     "output_type": "stream",
     "text": [
      "<__main__.person object at 0x000001AEA6277110>\n"
     ]
    }
   ],
   "source": [
    "someone = person()\n",
    "# person () creates individual object from person() class and assign it name 'someone'"
   ]
  },
  {
   "cell_type": "markdown",
   "metadata": {},
   "source": [
    "This example does nothing since defined class is empty, and the object created only exists in the memory.\n",
    "\n",
    "Now lets try to incorporate Python method for initialization of object `__init__`"
   ]
  },
  {
   "cell_type": "code",
   "execution_count": null,
   "metadata": {},
   "outputs": [],
   "source": [
    "class Person():\n",
    "    def __init__(self):\n",
    "        pass\n",
    "\n",
    "# Argument `self` = this is individual object\n",
    "# when __init__ is defined inside the class, it's first parameter should be SELF"
   ]
  },
  {
   "cell_type": "markdown",
   "metadata": {},
   "source": [
    "> Also in this example above, created class remains empty. \n",
    "\n",
    "Third example, I will try to make object by adding the `name` parameter to `__init__` method."
   ]
  },
  {
   "cell_type": "code",
   "execution_count": 17,
   "metadata": {},
   "outputs": [
    {
     "name": "stdout",
     "output_type": "stream",
     "text": [
      "<__main__.Person object at 0x000001AEA685E190>\n"
     ]
    }
   ],
   "source": [
    "class Person():\n",
    "    def __init__(self,name):\n",
    "        self.name = name\n",
    "\n",
    "person_1 = Person('Elmer Fudd')\n",
    "print(person_1)"
   ]
  },
  {
   "cell_type": "markdown",
   "metadata": {},
   "source": [
    "Finally `object` is created from `Person()` class by passing the string to the added parameter `name`."
   ]
  },
  {
   "cell_type": "markdown",
   "metadata": {},
   "source": [
    "### What this line of code actually do step-by-step:"
   ]
  },
  {
   "cell_type": "markdown",
   "metadata": {},
   "source": [
    "#### 1. Searches the definition of code\n",
    "\n",
    "#### 2. Making new object in the memory\n",
    "\n",
    "#### 3. Calling the method __init__ , where passes this new object as a `self` and second argument ('Elmer Fudd') as the `name`\n",
    "\n",
    "#### 4. Stores the value of name object\n",
    "\n",
    "#### 5. returns the new object \n",
    "\n",
    "#### 6. attaches name of the person_1 to the object\n"
   ]
  },
  {
   "cell_type": "markdown",
   "metadata": {},
   "source": [
    "### What about the value of `name` that I passed inside the class method? It is saved within the object and can be used as an `attribute`."
   ]
  },
  {
   "cell_type": "code",
   "execution_count": 3,
   "metadata": {},
   "outputs": [
    {
     "ename": "NameError",
     "evalue": "name 'person_1' is not defined",
     "output_type": "error",
     "traceback": [
      "\u001b[1;31m---------------------------------------------------------------------------\u001b[0m",
      "\u001b[1;31mNameError\u001b[0m                                 Traceback (most recent call last)",
      "Cell \u001b[1;32mIn[3], line 1\u001b[0m\n\u001b[1;32m----> 1\u001b[0m person_2 \u001b[38;5;241m=\u001b[39m \u001b[43mperson_1\u001b[49m\u001b[38;5;241m.\u001b[39mname\n\u001b[0;32m      2\u001b[0m \u001b[38;5;28mprint\u001b[39m(person_2)\n\u001b[0;32m      4\u001b[0m \u001b[38;5;66;03m# Output: same as the person_1 previously defined\u001b[39;00m\n",
      "\u001b[1;31mNameError\u001b[0m: name 'person_1' is not defined"
     ]
    }
   ],
   "source": [
    "person_2 = person_1.name\n",
    "print(person_2)\n",
    "\n",
    "# Output: same as the person_1 previously defined"
   ]
  },
  {
   "cell_type": "markdown",
   "metadata": {},
   "source": [
    "## 2. Inheritance"
   ]
  },
  {
   "cell_type": "markdown",
   "metadata": {},
   "source": [
    "Making the new class from the already existing class would be the basic definition of class `inheritance`. It is the great example of `code recycling`. \n",
    "\n",
    "In the next markdown text i will show examples along with my understanding of what is happening behind this."
   ]
  },
  {
   "cell_type": "markdown",
   "metadata": {},
   "source": [
    "**2.1. Basic example of inheritance empty class.**\n",
    "\n",
    "new class could inherit all the code from the parent class without copying the code to new class.\n",
    "> old class = superclass, parent class\n",
    "\n",
    "> new class = underclass"
   ]
  },
  {
   "cell_type": "code",
   "execution_count": null,
   "metadata": {},
   "outputs": [],
   "source": [
    "class Car():\n",
    "    pass\n",
    "class Yugo(Car):\n",
    "    pass\n",
    "\n",
    "give_me_a_car = Car()\n",
    "give_me_a_yugo = Yugo()"
   ]
  },
  {
   "cell_type": "markdown",
   "metadata": {},
   "source": [
    "**Underclass** is specialization of the __class__; In the term of Object-Oriented programming, `yugo` is `car`.\n",
    "\n",
    "- Object under the name `give_me_a_yugo` is instance of class Yugo() but also inherits everything that Car() does.\n",
    "\n",
    "This was just basic example and indeed it does nothing!\n",
    "\n",
    "Next example will shown the real example of meaningful inheritance (to some extent)"
   ]
  },
  {
   "cell_type": "code",
   "execution_count": 4,
   "metadata": {},
   "outputs": [
    {
     "name": "stdout",
     "output_type": "stream",
     "text": [
      "Im a car!\n",
      "Im a car!\n"
     ]
    }
   ],
   "source": [
    "class Car():\n",
    "    def exclaim(self):\n",
    "        print('I''m a car!')\n",
    "\n",
    "class Yugo(Car):\n",
    "    pass\n",
    "\n",
    "# Make one object from each class and call method exclaim:\n",
    "\n",
    "give_car = Car()\n",
    "give_yugo = Yugo()\n",
    "give_car.exclaim()\n",
    "give_yugo.exclaim()"
   ]
  },
  {
   "cell_type": "markdown",
   "metadata": {},
   "source": [
    "Great example that shows that `Yugo()` inherited `exclaim` method from the class `Car()`"
   ]
  },
  {
   "cell_type": "markdown",
   "metadata": {},
   "source": [
    "## 3.Method Span (bridge)"
   ]
  },
  {
   "cell_type": "markdown",
   "metadata": {},
   "source": [
    "As we have seen in the last example new class `subclass` inherits everything from it's `superclass`. It is important to mention that in the last example, Yugo should be different in the some way from Car. In the opposite, what is the point of defining the `new class` ?"
   ]
  },
  {
   "cell_type": "markdown",
   "metadata": {},
   "source": [
    "**3.1 Lets change the way how method `exclaim` works for `Yugo` class.**"
   ]
  },
  {
   "cell_type": "code",
   "execution_count": 5,
   "metadata": {},
   "outputs": [
    {
     "name": "stdout",
     "output_type": "stream",
     "text": [
      "Im a car!\n",
      "I am a Yugo! Just like a car but more Yugo.\n"
     ]
    }
   ],
   "source": [
    "class Car():\n",
    "    def exclaim(self):\n",
    "        print('I''m a car!')\n",
    "\n",
    "class Yugo(Car):\n",
    "    def exclaim(self):\n",
    "        print('I am a Yugo! Just like a car but more Yugo.')\n",
    "\n",
    "\n",
    "give_car = Car()\n",
    "give_yugo = Yugo()\n",
    "\n",
    "give_car.exclaim()\n",
    "give_yugo.exclaim()"
   ]
  },
  {
   "cell_type": "markdown",
   "metadata": {},
   "source": [
    "One more example which will use first class in this notebook, person. \n",
    "\n",
    "- I will make 2 subclasses that represents the doctors(MDPerson) and lawyers (JDPerson)."
   ]
  },
  {
   "cell_type": "code",
   "execution_count": 6,
   "metadata": {},
   "outputs": [
    {
     "data": {
      "text/plain": [
       "'Fudd, Esquire'"
      ]
     },
     "execution_count": 6,
     "metadata": {},
     "output_type": "execute_result"
    }
   ],
   "source": [
    "class Person():\n",
    "    def __init__(self,name):\n",
    "        self.name = name\n",
    "\n",
    "class MDPerson(Person):\n",
    "    def __init__(self,name):\n",
    "        self.name=\"Dr \"+ name\n",
    "class JDPerson(Person):\n",
    "    def __init__(self, name):\n",
    "        self.name = name + \", Esquire\"\n",
    "\n",
    "\n",
    "person = Person('Fudd')\n",
    "doctor = MDPerson('Fudd')\n",
    "lawyer = JDPerson('Fudd')\n",
    "\n",
    "person.name\n",
    "doctor.name\n",
    "lawyer.name\n",
    "\n",
    "# 2 subclasses MDPerson and JDPerson receive string which is passed in the first class to init method"
   ]
  },
  {
   "cell_type": "markdown",
   "metadata": {},
   "source": [
    "**3.2 Using the `super().__init__()`**"
   ]
  },
  {
   "cell_type": "markdown",
   "metadata": {},
   "source": [
    "- It ensures code reusability because it will use the superclass(parent class) constructor.\n",
    "\n",
    "- If `Person()` (superclass) get modified, with using `super()`, all classes below (underclasses) will inherit that change."
   ]
  },
  {
   "cell_type": "code",
   "execution_count": 89,
   "metadata": {},
   "outputs": [
    {
     "data": {
      "text/plain": [
       "'Luka Medical'"
      ]
     },
     "execution_count": 89,
     "metadata": {},
     "output_type": "execute_result"
    }
   ],
   "source": [
    "class Person():\n",
    "    def __init__(self,name):\n",
    "        self.name = name\n",
    "\n",
    "class Worker(Person):\n",
    "    def __init__(self,name):\n",
    "        super().__init__(name + \" Worker\")\n",
    "\n",
    "class Medical(Person):\n",
    "    def __init__(self, name):\n",
    "        super().__init__(name + \" Medical\")\n",
    "\n",
    "\n",
    "person_name = Person('Luka')\n",
    "worker_name = Worker('Luka')\n",
    "medical_name = Medical('Luka')\n",
    "\n",
    "\n",
    "person_name.name\n",
    "worker_name.name\n",
    "medical_name.name"
   ]
  },
  {
   "cell_type": "markdown",
   "metadata": {},
   "source": [
    "### __init__(self,name):\n",
    "\n",
    "Defining the `__init__` only if the subclass needs to add or modify attributes\n",
    "\n",
    "> If subclass inherits everything from the superclass, no need to define `__init__`"
   ]
  },
  {
   "cell_type": "markdown",
   "metadata": {},
   "source": [
    "**3.3.1 Example 1: No Need to Override __init__**"
   ]
  },
  {
   "cell_type": "code",
   "execution_count": null,
   "metadata": {},
   "outputs": [
    {
     "data": {
      "text/plain": [
       "'Alice'"
      ]
     },
     "execution_count": 94,
     "metadata": {},
     "output_type": "execute_result"
    }
   ],
   "source": [
    "class Person():\n",
    "    def __init__(self,name):\n",
    "        self.name = name\n",
    "class Student(Person):\n",
    "    pass\n",
    "\n",
    "person = Person(\"Luka\")\n",
    "stud = Student(\"Alice\")        \n",
    "\n",
    "person.name # 'Luka'\n",
    "stud.name # 'Alice'"
   ]
  },
  {
   "cell_type": "markdown",
   "metadata": {},
   "source": [
    "### Student inherits the __init__ method from Person, so we don’t need to redefine it."
   ]
  },
  {
   "cell_type": "markdown",
   "metadata": {},
   "source": [
    "**3.3.1 Example 2: When to Override __init__**\n",
    "\n",
    "> If a subclass needs extra attributes or modifications, override `__init__.`"
   ]
  },
  {
   "cell_type": "code",
   "execution_count": null,
   "metadata": {},
   "outputs": [
    {
     "data": {
      "text/plain": [
       "'Luka'"
      ]
     },
     "execution_count": 97,
     "metadata": {},
     "output_type": "execute_result"
    }
   ],
   "source": [
    "class Student(Person):\n",
    "    def __init__(self, name,school):\n",
    "        super().__init__(name) # This is calling the Person's innit code above\n",
    "        self.school = school # added new attribute\n",
    "\n",
    "s = Student('Luka','Harvard')\n",
    "s.school # 'Harvard'\n",
    "s.name # 'Luka'"
   ]
  },
  {
   "cell_type": "markdown",
   "metadata": {},
   "source": [
    "### Here, Student needs school, so we override __init__ and still call super().__init__(name) to keep Person’s functionality."
   ]
  },
  {
   "cell_type": "markdown",
   "metadata": {},
   "source": [
    "3.3.1 One more example from my book - __Introduction to Python (by Bill Lubanovic__).\n",
    "\n",
    "Try to add more attributes into the Person()\n",
    "\n",
    "Define new class under the name EmailPerson which represent the person (Person) with the address of email."
   ]
  },
  {
   "cell_type": "code",
   "execution_count": null,
   "metadata": {},
   "outputs": [
    {
     "name": "stdout",
     "output_type": "stream",
     "text": [
      "{'name': 'Luka', 'surname': 'Jasovic', 'school': 'Harvard', 'email': 'jasovicluka1@gmail.com'}\n"
     ]
    }
   ],
   "source": [
    "class Person():\n",
    "    def __init__(self,name,surname,school):\n",
    "        self.name=name\n",
    "        self.surname=surname\n",
    "        self.school=school\n",
    "    def display(self):\n",
    "        print(f\"Name: {self.name}, Surname {self.surname}, School: {self.school}\")\n",
    "\n",
    "human = Person('Luka','Jasovic','Harvard')\n",
    "human.name\n",
    "human.surname\n",
    "human.school\n",
    "\n",
    "class EmailPerson(Person):\n",
    "    def __init__(self, name, surname, school,email):\n",
    "        super().__init__(name,surname,school) #  # Passing name, surname, and school to Person's __init__\n",
    "        self.email=email # New attribute for EmailPerson\n",
    "    def display(self):\n",
    "        super().display()\n",
    "        print(f\"Email: {self.email}\")\n",
    "        \n",
    "\n",
    "human = Person('Luka', 'Jasovic', 'Harvard')\n",
    "email_person = EmailPerson('Luka', 'Jasovic', 'Harvard', 'jasovicluka1@gmail.com')\n",
    "\n",
    "#The __dict__ attribute contains a dictionary representation of an object’s attributes.\n",
    "print(email_person.__dict__)"
   ]
  },
  {
   "cell_type": "markdown",
   "metadata": {},
   "source": [
    "To summarize:"
   ]
  },
  {
   "cell_type": "markdown",
   "metadata": {},
   "source": [
    "`super()` - > method will be used in the cases where subclass should do something different from the superclass."
   ]
  },
  {
   "cell_type": "markdown",
   "metadata": {},
   "source": [
    "## 4. Find and adjust the values of attributes:\n",
    "\n",
    "(example from the book)"
   ]
  },
  {
   "cell_type": "code",
   "execution_count": null,
   "metadata": {},
   "outputs": [
    {
     "name": "stdout",
     "output_type": "stream",
     "text": [
      "Inside the getter\n",
      "Inside the setter\n",
      "Inside the getter\n"
     ]
    },
    {
     "data": {
      "text/plain": [
       "'Mealson'"
      ]
     },
     "execution_count": 123,
     "metadata": {},
     "output_type": "execute_result"
    }
   ],
   "source": [
    "class Duck():\n",
    "    def __init__(self,input_name):\n",
    "        self.hidden_name = input_name\n",
    "    def get_name(self):\n",
    "        print('Inside the getter')\n",
    "        return self.hidden_name\n",
    "    def set_name(self,input_name):\n",
    "        print('Inside the setter')\n",
    "        self.hidden_name = input_name\n",
    "    name = property(get_name,set_name)\n",
    "\n",
    "\n",
    "hue = Duck('Pearson')\n",
    "hue.get_name()\n",
    "hue.set_name('Mealson')\n",
    "hue.name\n",
    "\n",
    "# Working!\n",
    "        "
   ]
  },
  {
   "cell_type": "markdown",
   "metadata": {},
   "source": [
    "#### 4.1 Doing the same but with `decorator`"
   ]
  },
  {
   "cell_type": "markdown",
   "metadata": {},
   "source": [
    "- @property -> going behind method of getter\n",
    "\n",
    "- @name.setter -> going behind method of setter"
   ]
  },
  {
   "cell_type": "code",
   "execution_count": null,
   "metadata": {},
   "outputs": [],
   "source": [
    "class Duck():\n",
    "    def __init__(self,input_name):\n",
    "        self.hidden_name = input_name\n",
    "        @property\n",
    "        def name(self):\n",
    "            print('inside the getter V2')\n",
    "            return self.hidden_name\n",
    "        @name.setter\n",
    "        def name(self,input_name):\n",
    "            print('Inside the setter')\n",
    "            self.hidde_name = input_name\n",
    "\n",
    "# Still i can access name as it was the attribute, but no visible get_name or set_name methods"
   ]
  },
  {
   "cell_type": "code",
   "execution_count": null,
   "metadata": {},
   "outputs": [
    {
     "data": {
      "text/plain": [
       "'Ha-Ha'"
      ]
     },
     "execution_count": 131,
     "metadata": {},
     "output_type": "execute_result"
    }
   ],
   "source": [
    "fowl = Duck('Ha-Ha')\n",
    "fowl.name = 'Donald'\n",
    "fowl.hidden_name\n",
    "\n",
    "# One more:"
   ]
  },
  {
   "cell_type": "code",
   "execution_count": 2,
   "metadata": {},
   "outputs": [
    {
     "name": "stdout",
     "output_type": "stream",
     "text": [
      "\u001b[1;31mDocstring:\u001b[0m\n",
      "min(iterable, *[, default=obj, key=func]) -> value\n",
      "min(arg1, arg2, *args, *[, key=func]) -> value\n",
      "\n",
      "With a single iterable argument, return its smallest item. The\n",
      "default keyword-only argument specifies an object to return if\n",
      "the provided iterable is empty.\n",
      "With two or more arguments, return the smallest argument.\n",
      "\u001b[1;31mType:\u001b[0m      builtin_function_or_method"
     ]
    }
   ],
   "source": [
    "min?"
   ]
  },
  {
   "cell_type": "code",
   "execution_count": null,
   "metadata": {},
   "outputs": [
    {
     "data": {
      "text/plain": [
       "18"
      ]
     },
     "execution_count": 142,
     "metadata": {},
     "output_type": "execute_result"
    }
   ],
   "source": [
    "class Circle():\n",
    "    def __init__(self,radius):\n",
    "        self.radius = radius\n",
    "    @property\n",
    "    def diameter(self):\n",
    "        return 2*self.radius\n",
    "    \n",
    "c = Circle(5)\n",
    "c.radius\n",
    "c.diameter\n",
    "#10\n",
    "# Note here that we can anytime change the attribute radius and the diameter will be calculated from that new value\n",
    "\n",
    "c.radius = 9\n",
    "c.diameter\n",
    "# 18\n"
   ]
  }
 ],
 "metadata": {
  "kernelspec": {
   "display_name": "Python 3",
   "language": "python",
   "name": "python3"
  },
  "language_info": {
   "codemirror_mode": {
    "name": "ipython",
    "version": 3
   },
   "file_extension": ".py",
   "mimetype": "text/x-python",
   "name": "python",
   "nbconvert_exporter": "python",
   "pygments_lexer": "ipython3",
   "version": "3.11.4"
  }
 },
 "nbformat": 4,
 "nbformat_minor": 2
}
