{
 "cells": [
  {
   "cell_type": "markdown",
   "id": "76b29069",
   "metadata": {},
   "source": [
    "### 1. Syntax and Structure"
   ]
  },
  {
   "cell_type": "markdown",
   "id": "196bf6bb",
   "metadata": {},
   "source": [
    "- JSON can store nested objects in JSON format in addition to nested arrays\n",
    "\n",
    "- These objects and arrays will be passed as values assigned to keys, and may be comprised of key-value pairs as well"
   ]
  },
  {
   "cell_type": "markdown",
   "id": "91f74907",
   "metadata": {},
   "source": [
    "#### Each user entry in the following code block is an example of a nested JSON object:"
   ]
  },
  {
   "cell_type": "code",
   "execution_count": 1,
   "id": "5fa219f9",
   "metadata": {},
   "outputs": [],
   "source": [
    "import json\n",
    "import os\n",
    "\n",
    "coder = {\n",
    "    \"Luka\":{\n",
    "        'lastname':'Jasovic',\n",
    "        'age':26,\n",
    "        'languages':['Python','Linux Shell'],\n",
    "        'online':False\n",
    "    },\n",
    "    \"Pavle\":{\n",
    "        \"lastname\":'Jasovic',\n",
    "        'age':23,\n",
    "        'languges':None, #json decoder = null \n",
    "        'online':True\n",
    "    },\n",
    "    \"X\":{\n",
    "        'uknown':123,\n",
    "        'known_array':['this is a test'],\n",
    "    }\n",
    "}"
   ]
  },
  {
   "cell_type": "markdown",
   "id": "24e0fd70",
   "metadata": {},
   "source": [
    "Data can also be nested within the JSON format by using JavaScript arrays that are passed as a value"
   ]
  },
  {
   "cell_type": "markdown",
   "id": "11419bf8",
   "metadata": {},
   "source": [
    "- JS uses square brackets `[]`"
   ]
  },
  {
   "cell_type": "markdown",
   "id": "a65fd22d",
   "metadata": {},
   "source": [
    "With the first nested array, a user profile for 'Luka' is represented with:"
   ]
  },
  {
   "cell_type": "code",
   "execution_count": 2,
   "id": "11eab76a",
   "metadata": {},
   "outputs": [],
   "source": [
    "coder_1 = {\n",
    "    \"first_name\":\"Luka\",\n",
    "    \"last_name\":\"jasovic\",\n",
    "    'languages':[\n",
    "        {\n",
    "            \"Python\":1,\n",
    "            'Linux Shell':0.5\n",
    "        }\n",
    "    ],\n",
    "    'social_media':[\n",
    "        {\n",
    "            \"X\":False,\n",
    "            \"Instagram\":True,\n",
    "            'Facebook':True\n",
    "        }\n",
    "    ]\n",
    "}"
   ]
  },
  {
   "cell_type": "markdown",
   "id": "2e3d5a8b",
   "metadata": {},
   "source": [
    "JSON compared to XML format. It's similar to JSON but requires much more text. \n",
    "\n",
    "> XML must be read with the XML parser "
   ]
  },
  {
   "cell_type": "markdown",
   "id": "0b0d3f60",
   "metadata": {},
   "source": [
    "### 1 Basic JSON Decoding\n"
   ]
  },
  {
   "cell_type": "markdown",
   "id": "36f4563e",
   "metadata": {},
   "source": [
    "Load it into Python and print:\n",
    "\n",
    "The movie title\n",
    "\n",
    "The second genre"
   ]
  },
  {
   "cell_type": "code",
   "execution_count": 3,
   "id": "4a84adcd",
   "metadata": {},
   "outputs": [
    {
     "name": "stdout",
     "output_type": "stream",
     "text": [
      "{'title': 'Inception', 'year': 2010, 'genres': ['Action', 'Sci-Fi', 'Thriller']}\n",
      "Inception\n",
      "Sci-Fi\n"
     ]
    }
   ],
   "source": [
    "path = os.getcwd()\n",
    "#print(path)\n",
    "full_path = os.path.join(path,'loading.json')\n",
    "\n",
    "\n",
    "with open(full_path,'r') as f:\n",
    "    load_json = json.load(f)\n",
    "print(load_json)\n",
    "\n",
    "print(load_json['title'])\n",
    "print(load_json['genres'][1])\n"
   ]
  },
  {
   "cell_type": "markdown",
   "id": "b1919599",
   "metadata": {},
   "source": [
    "### Problem 2: Nested JSON Access\n",
    "You’re working with a weather API responses\n"
   ]
  },
  {
   "cell_type": "markdown",
   "id": "33f49cac",
   "metadata": {},
   "source": [
    "- Extract the country\n",
    "\n",
    "- Extract the weather description\n",
    "\n",
    "- Extract and round the temperature"
   ]
  },
  {
   "cell_type": "code",
   "execution_count": 4,
   "id": "d7bd399f",
   "metadata": {},
   "outputs": [
    {
     "name": "stdout",
     "output_type": "stream",
     "text": [
      "{'location': {'name': 'Belgrade', 'region': 'Central Serbia', 'country': 'Serbia'}, 'current': {'temp_c': 23.5, 'condition': {'text': 'Partly cloudy'}}}\n"
     ]
    }
   ],
   "source": [
    "with open('Nested_json_access.json','r') as f1:\n",
    "    nested_load = json.load(f1)\n",
    "    print(nested_load)"
   ]
  },
  {
   "cell_type": "code",
   "execution_count": 5,
   "id": "497b00c8",
   "metadata": {},
   "outputs": [
    {
     "name": "stdout",
     "output_type": "stream",
     "text": [
      "Serbia\n",
      "Partly cloudy\n",
      "23\n"
     ]
    }
   ],
   "source": [
    "import math\n",
    "location = nested_load['location']['country'] \n",
    "print(location)\n",
    "weather = nested_load['current']['condition']['text']\n",
    "print(weather)\n",
    "temp = nested_load['current']['temp_c']\n",
    "r = math.floor(temp)\n",
    "print(r)"
   ]
  },
  {
   "cell_type": "markdown",
   "id": "7452f979",
   "metadata": {},
   "source": [
    "### Problem 3: Iterating JSON Arrays\n",
    "You receive an API response with multiple users"
   ]
  },
  {
   "cell_type": "markdown",
   "id": "0f3ae289",
   "metadata": {},
   "source": [
    "Print the names of all active users\n",
    "\n"
   ]
  },
  {
   "cell_type": "code",
   "execution_count": 6,
   "id": "e5086a76",
   "metadata": {},
   "outputs": [
    {
     "name": "stdout",
     "output_type": "stream",
     "text": [
      "{'users': [{'name': 'Alice', 'active': True}, {'name': 'Bob', 'active': False}, {'name': 'Charlie', 'active': True}]}\n"
     ]
    }
   ],
   "source": [
    "with open('json_api_users.json','r') as f2:\n",
    "    loader = json.load(f2)\n",
    "\n",
    "print(loader)\n",
    "\n"
   ]
  },
  {
   "cell_type": "code",
   "execution_count": 7,
   "id": "72205d9f",
   "metadata": {},
   "outputs": [
    {
     "name": "stdout",
     "output_type": "stream",
     "text": [
      "Alice\n",
      "Charlie\n",
      "['Alice', 'Charlie']\n"
     ]
    }
   ],
   "source": [
    "active_users = []\n",
    "\n",
    "for user in loader['users']:\n",
    "    if user['active']==True:\n",
    "        print(user['name'])\n",
    "        active_users.append(user['name'])\n",
    "\n",
    "print(active_users)\n",
    "\n",
    "\n"
   ]
  },
  {
   "cell_type": "markdown",
   "id": "196840c1",
   "metadata": {},
   "source": [
    "### Problem 4: Saving and Reading\n"
   ]
  },
  {
   "cell_type": "markdown",
   "id": "8946e207",
   "metadata": {},
   "source": [
    "Take a Python dictionary of your own design (e.g., your personal info, preferences, or scores), save it as a .json file, and read it back."
   ]
  },
  {
   "cell_type": "code",
   "execution_count": 8,
   "id": "f5cee828",
   "metadata": {},
   "outputs": [],
   "source": [
    "my_own = {\n",
    "    'Name':'Luka',\n",
    "    'Age': 26,\n",
    "    'Website':[\n",
    "        {\n",
    "            \"X\":True,\n",
    "            'Facebook':False,\n",
    "            'GitHub':True,\n",
    "        }\n",
    "    ],\n",
    "    'Projects':[\n",
    "        {\n",
    "            \"Shell\":'Bioinformatics',\n",
    "            \"Python\":\"Data Science\"\n",
    "        }\n",
    "    ]\n",
    "}"
   ]
  },
  {
   "cell_type": "code",
   "execution_count": 9,
   "id": "21aa4487",
   "metadata": {},
   "outputs": [
    {
     "name": "stdout",
     "output_type": "stream",
     "text": [
      "{\"Name\": \"Luka\", \"Age\": 26, \"Website\": [{\"X\": true, \"Facebook\": false, \"GitHub\": true}], \"Projects\": [{\"Shell\": \"Bioinformatics\", \"Python\": \"Data Science\"}]}\n"
     ]
    }
   ],
   "source": [
    "json_dict = json.dumps(my_own)\n",
    "print(json_dict)"
   ]
  },
  {
   "cell_type": "markdown",
   "id": "54216756",
   "metadata": {},
   "source": [
    "- Save this JSON string to a .json file\n",
    "- Then load it back from that file and access a nested value to verify it worked"
   ]
  },
  {
   "cell_type": "code",
   "execution_count": 10,
   "id": "2c0b1cc8",
   "metadata": {},
   "outputs": [],
   "source": [
    "with open('json_dict.json','w')as f:\n",
    "    f.write(json_dict)\n"
   ]
  },
  {
   "cell_type": "code",
   "execution_count": 11,
   "id": "c13d97fb",
   "metadata": {},
   "outputs": [
    {
     "name": "stdout",
     "output_type": "stream",
     "text": [
      "Successfully saved {\"Name\": \"Luka\", \"Age\": 26, \"Website\": [{\"X\": true, \"Facebook\": false, \"GitHub\": true}], \"Projects\": [{\"Shell\": \"Bioinformatics\", \"Python\": \"Data Science\"}]} file in: c:\\Users\\jaske\\my_repo\\web-scraper\n"
     ]
    }
   ],
   "source": [
    "\n",
    "for dirpath,dirnames,filenames in os.walk(os.getcwd()): # 3item tuples because of (dirpath, dirnames, filenames)\n",
    "    if 'json_dict.json' in filenames:\n",
    "        print(f\"Successfully saved {json_dict} file in: {dirpath}\")\n",
    "    else:\n",
    "        print(\"No file has been saved\")\n",
    "\n",
    "\n",
    "    "
   ]
  },
  {
   "cell_type": "code",
   "execution_count": 12,
   "id": "b5766fd6",
   "metadata": {},
   "outputs": [
    {
     "name": "stdout",
     "output_type": "stream",
     "text": [
      "{'Name': 'Luka', 'Age': 26, 'Website': [{'X': True, 'Facebook': False, 'GitHub': True}], 'Projects': [{'Shell': 'Bioinformatics', 'Python': 'Data Science'}]}\n"
     ]
    }
   ],
   "source": [
    "#loading it back.\n",
    "\n",
    "with open(\"json_dict.json\",'r') as f: \n",
    "    j_loader = json.load(f)\n",
    "print(j_loader)"
   ]
  },
  {
   "cell_type": "markdown",
   "id": "76c0a230",
   "metadata": {},
   "source": [
    "### Problem 5: Combine JSON + Looping\n"
   ]
  },
  {
   "cell_type": "markdown",
   "id": "ce33f47e",
   "metadata": {},
   "source": [
    "- Compute the total cost of all items\n",
    "\n",
    " - Create a new list that includes only items above 1.00"
   ]
  },
  {
   "cell_type": "code",
   "execution_count": 15,
   "id": "a2b2189a",
   "metadata": {},
   "outputs": [],
   "source": [
    "x = {\n",
    "  \"items\": [\n",
    "    {\"name\": \"Notebook\", \"price\": 4.99},\n",
    "    {\"name\": \"Pen\", \"price\": 1.50},\n",
    "    {\"name\": \"Pencil\", \"price\": 0.99}\n",
    "  ]\n",
    "}\n"
   ]
  },
  {
   "cell_type": "code",
   "execution_count": null,
   "id": "8c3ed02c",
   "metadata": {},
   "outputs": [
    {
     "name": "stdout",
     "output_type": "stream",
     "text": [
      "<class 'dict'>\n"
     ]
    }
   ],
   "source": [
    "x_decoder = json.dumps(x)\n",
    "# encoder\n",
    "# py object - > json"
   ]
  },
  {
   "cell_type": "code",
   "execution_count": 26,
   "id": "6831ebd3",
   "metadata": {},
   "outputs": [],
   "source": [
    "with open('x_decoder.json','w') as f:\n",
    "    file123 = f.write(x_decoder)"
   ]
  },
  {
   "cell_type": "code",
   "execution_count": 135,
   "id": "60faa1fe",
   "metadata": {},
   "outputs": [
    {
     "name": "stdout",
     "output_type": "stream",
     "text": [
      "{'items': [{'name': 'Notebook', 'price': 4.99}, {'name': 'Pen', 'price': 1.5}, {'name': 'Pencil', 'price': 0.99}]}\n"
     ]
    }
   ],
   "source": [
    "json_dict = json.loads(x_decoder)\n",
    "print(json_dict)"
   ]
  },
  {
   "cell_type": "code",
   "execution_count": null,
   "id": "2f497c86",
   "metadata": {},
   "outputs": [
    {
     "name": "stdout",
     "output_type": "stream",
     "text": [
      "7.48\n"
     ]
    }
   ],
   "source": [
    "total_cost = 0\n",
    "\n",
    "for i in json_dict['items']:\n",
    "    price = i['price']\n",
    "    total_cost +=price\n",
    "    #print(total_cost)\n",
    "    \n",
    "print(total_cost)  \n"
   ]
  },
  {
   "cell_type": "code",
   "execution_count": 150,
   "id": "c4c12db8",
   "metadata": {},
   "outputs": [
    {
     "name": "stdout",
     "output_type": "stream",
     "text": [
      "[4.99, 1.5]\n"
     ]
    }
   ],
   "source": [
    "above_one = []\n",
    "\n",
    "for i in json_dict['items']:\n",
    "    if i['price'] > 1:\n",
    "        price = i['price']\n",
    "        above_one.append(price)\n",
    "print(above_one)"
   ]
  }
 ],
 "metadata": {
  "kernelspec": {
   "display_name": "Python 3",
   "language": "python",
   "name": "python3"
  },
  "language_info": {
   "codemirror_mode": {
    "name": "ipython",
    "version": 3
   },
   "file_extension": ".py",
   "mimetype": "text/x-python",
   "name": "python",
   "nbconvert_exporter": "python",
   "pygments_lexer": "ipython3",
   "version": "3.13.2"
  }
 },
 "nbformat": 4,
 "nbformat_minor": 5
}
