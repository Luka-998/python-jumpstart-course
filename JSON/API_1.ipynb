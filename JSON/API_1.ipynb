{
 "cells": [
  {
   "cell_type": "markdown",
   "id": "b0d84a54",
   "metadata": {},
   "source": [
    "### 1. Deep Access & Normalization\n"
   ]
  },
  {
   "cell_type": "markdown",
   "id": "0d33bddc",
   "metadata": {},
   "source": [
    "Extract the following from it:\n",
    "\n",
    "- \"city\" inside \"location\"\n",
    "\n",
    "- \"text\" (weather condition) inside \"current\" > \"condition\"\n",
    "\n",
    "- \"feels_like_c\" if present, else use \"temp_c\" from \"current\""
   ]
  },
  {
   "cell_type": "code",
   "execution_count": 307,
   "id": "b58f463f",
   "metadata": {},
   "outputs": [
    {
     "name": "stdout",
     "output_type": "stream",
     "text": [
      "c:\\Users\\jaske\\my_repo\\JSON\n",
      "{'location': {'city': 'Belgrade', 'country': 'Serbia'}, 'current': {'temp_c': 23.4, 'feels_like_c': 22.1, 'condition': {'text': 'Partly cloudy'}}}\n"
     ]
    }
   ],
   "source": [
    "import os \n",
    "import json\n",
    "print(os.getcwd())\n",
    "\n",
    "\n",
    "\n",
    "with open('API_response1.JSON','r') as f:\n",
    "    json_loader = json.load(f)\n",
    "\n",
    "print(json_loader) #py obj - dict"
   ]
  },
  {
   "cell_type": "code",
   "execution_count": 308,
   "id": "df33f72b",
   "metadata": {},
   "outputs": [
    {
     "name": "stdout",
     "output_type": "stream",
     "text": [
      "Serbia\n"
     ]
    }
   ],
   "source": [
    "country = json_loader['location']['country']\n",
    "print(country)\n",
    "\n",
    "#location = [([i]['location']['country']) for i in json_loader]\n",
    "\n",
    "    \n"
   ]
  },
  {
   "cell_type": "code",
   "execution_count": 309,
   "id": "31b3c73b",
   "metadata": {},
   "outputs": [
    {
     "name": "stdout",
     "output_type": "stream",
     "text": [
      "Serbia\n"
     ]
    }
   ],
   "source": [
    "for keys,values in json_loader.items():\n",
    "    country = json_loader['location']['country']\n",
    "    #print(country)\n",
    "print(country)"
   ]
  },
  {
   "cell_type": "markdown",
   "id": "d2bef8b9",
   "metadata": {},
   "source": [
    "### 2. Flatten Nested User Data\n"
   ]
  },
  {
   "cell_type": "markdown",
   "id": "945c8605",
   "metadata": {},
   "source": [
    "- Extract a flat list of (name, email) pairs for all users who are active == true."
   ]
  },
  {
   "cell_type": "code",
   "execution_count": 310,
   "id": "31f9b549",
   "metadata": {},
   "outputs": [
    {
     "name": "stdout",
     "output_type": "stream",
     "text": [
      "{'users': [{'id': 1, 'name': 'Alex', 'profile': {'email': 'alex@mail.com', 'active': True}}]}\n"
     ]
    }
   ],
   "source": [
    "with open('API_response3.JSON', 'r') as f:\n",
    "    py_obj = json.load(f)\n",
    "print(py_obj)"
   ]
  },
  {
   "cell_type": "code",
   "execution_count": 311,
   "id": "c0e6e990",
   "metadata": {},
   "outputs": [
    {
     "name": "stdout",
     "output_type": "stream",
     "text": [
      "email alex@mail.com\n",
      "active True\n",
      "['alex@mail.com']\n"
     ]
    }
   ],
   "source": [
    "name_email = []\n",
    "# i = list\n",
    "for i in py_obj['users']:\n",
    "    name = i['name']\n",
    "    profile= i['profile']\n",
    "    for key,values in profile.items():\n",
    "        print(key,values)\n",
    "        if key == 'active' and values == True:\n",
    "            (key, name_email.append(profile['email']))\n",
    "\n",
    "print(name_email)    "
   ]
  },
  {
   "cell_type": "markdown",
   "id": "ef50474e",
   "metadata": {},
   "source": [
    "###  3. Count Occurrences in Nested List"
   ]
  },
  {
   "cell_type": "markdown",
   "id": "ed240cc5",
   "metadata": {},
   "source": [
    "- Count how many times each item (like 'x', 'y', etc.) appears across all categories."
   ]
  },
  {
   "cell_type": "code",
   "execution_count": 312,
   "id": "04e4d1d1",
   "metadata": {},
   "outputs": [],
   "source": [
    "with open('occurence.json','r') as f1:\n",
    "    nnm1 = json.load(f1)"
   ]
  },
  {
   "cell_type": "code",
   "execution_count": 313,
   "id": "9d4276e5",
   "metadata": {},
   "outputs": [
    {
     "name": "stdout",
     "output_type": "stream",
     "text": [
      "{'data': {'categories': [{'name': 'A', 'items': ['x', 'y', 'z']}, {'name': 'B', 'items': ['x', 'x', 'x', 'x', 'z']}]}}\n"
     ]
    }
   ],
   "source": [
    "print(nnm1)"
   ]
  },
  {
   "cell_type": "code",
   "execution_count": null,
   "id": "e63552d4",
   "metadata": {},
   "outputs": [
    {
     "name": "stdout",
     "output_type": "stream",
     "text": [
      "{'name': 'A', 'items': ['x', 'y', 'z']}\n",
      "['x', 'y', 'z']\n",
      "[1]\n",
      "{'name': 'B', 'items': ['x', 'x', 'x', 'x', 'z']}\n",
      "['x', 'x', 'x', 'x', 'z']\n",
      "[1, 4]\n",
      "['x', 'x', 'x', 'x', 'z'] B\n"
     ]
    }
   ],
   "source": [
    "x = []\n",
    "y= []\n",
    "\n",
    "for i in nnm1['data'].values():\n",
    "    #print(i)\n",
    "    for j in i:\n",
    "        print(j)\n",
    "        name = j['name']\n",
    "        items = j['items']\n",
    "        print(items)\n",
    "        result_x = items.count('x')\n",
    "        x.append(result_x)\n",
    "        print(x)\n",
    "        result_y = items.count('y')\n",
    "        y.append(result_y)\n",
    "\n",
    "\n"
   ]
  },
  {
   "cell_type": "markdown",
   "id": "6d70f111",
   "metadata": {},
   "source": [
    "###  4. Simulated API Filtering"
   ]
  },
  {
   "cell_type": "markdown",
   "id": "fed98365",
   "metadata": {},
   "source": [
    "You simulate a REST API response with:\n",
    "\n",
    "- a list of products\n",
    "\n",
    "- each product has a nested {\"specs\": {}} dict"
   ]
  },
  {
   "cell_type": "markdown",
   "id": "8b49119d",
   "metadata": {},
   "source": [
    "`Task` **1** :\n",
    "\n",
    "Filter all products that are:\n",
    "\n",
    "> in the category \"electronics\"\n",
    "\n",
    "> have a rating above 4.5\n",
    "\n",
    "> and are in stock (true)\n",
    "\n"
   ]
  },
  {
   "cell_type": "code",
   "execution_count": 378,
   "id": "215853ce",
   "metadata": {},
   "outputs": [
    {
     "name": "stdout",
     "output_type": "stream",
     "text": [
      "{'products': [{'id': 101, 'name': 'Wireless Mouse', 'category': 'electronics', 'price': 19.99, 'rating': 4.5, 'in_stock': True}, {'id': 102, 'name': 'Bluetooth Speaker', 'category': 'electronics', 'price': 29.99, 'rating': 4.2, 'in_stock': False}, {'id': 103, 'name': 'Coffee Mug', 'category': 'kitchen', 'price': 7.5, 'rating': 4.8, 'in_stock': True}, {'id': 104, 'name': 'Notebook', 'category': 'stationery', 'price': 2.99, 'rating': 3.9, 'in_stock': True}, {'id': 105, 'name': 'Gaming Keyboard', 'category': 'electronics', 'price': 45.0, 'rating': 4.7, 'in_stock': True}]}\n"
     ]
    }
   ],
   "source": [
    "#load\n",
    "\n",
    "with open('API_products.JSON','r') as f:\n",
    "    py_loader = json.load(f)\n",
    "print(py_loader)"
   ]
  },
  {
   "cell_type": "code",
   "execution_count": 385,
   "id": "f0927160",
   "metadata": {},
   "outputs": [
    {
     "name": "stdout",
     "output_type": "stream",
     "text": [
      "Only products that fits this requirements is {'id': 105, 'name': 'Gaming Keyboard', 'category': 'electronics', 'price': 45.0, 'rating': 4.7, 'in_stock': True}\n"
     ]
    }
   ],
   "source": [
    "for i in py_loader['products']:\n",
    "    category = i['category']\n",
    "    if category=='electronics' and i['rating']>4.5 and i['in_stock']==True:\n",
    "        print(f'Only products that fits this requirements is {i}')\n"
   ]
  },
  {
   "cell_type": "markdown",
   "id": "a76990cc",
   "metadata": {},
   "source": [
    "`Task` **2** :\n",
    "\n",
    "From all products, extract the names of those where:\n",
    "\n",
    "> \"specs\" > \"in_stock\" is True\n",
    "\n",
    "> and \"price\" < 100\n"
   ]
  },
  {
   "cell_type": "code",
   "execution_count": null,
   "id": "13ba8e5e",
   "metadata": {},
   "outputs": [],
   "source": [
    "for i in py_loader['products']:\n",
    "    category = i['category']\n",
    "    if "
   ]
  }
 ],
 "metadata": {
  "kernelspec": {
   "display_name": "Python 3",
   "language": "python",
   "name": "python3"
  },
  "language_info": {
   "codemirror_mode": {
    "name": "ipython",
    "version": 3
   },
   "file_extension": ".py",
   "mimetype": "text/x-python",
   "name": "python",
   "nbconvert_exporter": "python",
   "pygments_lexer": "ipython3",
   "version": "3.13.2"
  }
 },
 "nbformat": 4,
 "nbformat_minor": 5
}
