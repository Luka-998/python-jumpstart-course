{
 "cells": [
  {
   "cell_type": "markdown",
   "id": "76b29069",
   "metadata": {},
   "source": [
    "### 1. Syntax and Structure"
   ]
  },
  {
   "cell_type": "markdown",
   "id": "196bf6bb",
   "metadata": {},
   "source": [
    "- JSON can store nested objects in JSON format in addition to nested arrays\n",
    "\n",
    "- These objects and arrays will be passed as values assigned to keys, and may be comprised of key-value pairs as well"
   ]
  },
  {
   "cell_type": "markdown",
   "id": "91f74907",
   "metadata": {},
   "source": [
    "#### Each user entry in the following code block is an example of a nested JSON object:"
   ]
  },
  {
   "cell_type": "code",
   "execution_count": null,
   "id": "5fa219f9",
   "metadata": {},
   "outputs": [],
   "source": [
    "import json\n",
    "\n",
    "coder = {\n",
    "    \"Luka\":{\n",
    "        'lastname':'Jasovic',\n",
    "        'age':26,\n",
    "        'languages':['Python','Linux Shell'],\n",
    "        'online':False\n",
    "    },\n",
    "    \"Pavle\":{\n",
    "        \"lastname\":'Jasovic',\n",
    "        'age':23,\n",
    "        'languges':None, #json decoder = null \n",
    "        'online':True\n",
    "    },\n",
    "    \"X\":{\n",
    "        'uknown':123,\n",
    "        'known_array':['this is a test'],\n",
    "    }\n",
    "}"
   ]
  },
  {
   "cell_type": "markdown",
   "id": "24e0fd70",
   "metadata": {},
   "source": [
    "Data can also be nested within the JSON format by using JavaScript arrays that are passed as a value"
   ]
  },
  {
   "cell_type": "markdown",
   "id": "11419bf8",
   "metadata": {},
   "source": [
    "- JS uses square brackets `[]`"
   ]
  },
  {
   "cell_type": "markdown",
   "id": "a65fd22d",
   "metadata": {},
   "source": [
    "With the first nested array, a user profile for 'Luka' is represented with:"
   ]
  },
  {
   "cell_type": "code",
   "execution_count": null,
   "id": "11eab76a",
   "metadata": {},
   "outputs": [],
   "source": [
    "coder_1 = {\n",
    "    \"first_name\":\"Luka\",\n",
    "    \"last_name\":\"jasovic\",\n",
    "    'languages':[\n",
    "        {\n",
    "            \"Python\":1,\n",
    "            'Linux Shell':0.5\n",
    "        }\n",
    "    ],\n",
    "    'social_media':[\n",
    "        {\n",
    "            \"X\":False,\n",
    "            \"Instagram\":True,\n",
    "            'Facebook':True\n",
    "        }\n",
    "    ]\n",
    "}"
   ]
  },
  {
   "cell_type": "markdown",
   "id": "2e3d5a8b",
   "metadata": {},
   "source": [
    "JSON compared to XML format. It's similar to JSON but requires much more text. \n",
    "\n",
    "> XML must be read with the XML parser "
   ]
  }
 ],
 "metadata": {
  "kernelspec": {
   "display_name": "Python 3",
   "language": "python",
   "name": "python3"
  },
  "language_info": {
   "codemirror_mode": {
    "name": "ipython",
    "version": 3
   },
   "file_extension": ".py",
   "mimetype": "text/x-python",
   "name": "python",
   "nbconvert_exporter": "python",
   "pygments_lexer": "ipython3",
   "version": "3.13.2"
  }
 },
 "nbformat": 4,
 "nbformat_minor": 5
}
